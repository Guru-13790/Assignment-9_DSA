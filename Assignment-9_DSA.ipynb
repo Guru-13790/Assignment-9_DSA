{
 "cells": [
  {
   "cell_type": "code",
   "execution_count": 1,
   "id": "1961af03-9b74-4a65-916b-6b2adb19a6bd",
   "metadata": {},
   "outputs": [
    {
     "name": "stdout",
     "output_type": "stream",
     "text": [
      "Original Array: [6, 8, 5, 1, 2]\n",
      "Sorted Array: [1, 2, 5, 6, 8]\n"
     ]
    }
   ],
   "source": [
    "def merge_sort(array):\n",
    "    \"\"\"\n",
    "    Sort the array using the Merge sort algorithm\n",
    "    \n",
    "    Parameters:\n",
    "    - array: The array to be sorted\n",
    "    \n",
    "    Returns: The sorted array.\n",
    "    \"\"\"\n",
    "    if len(array) <= 1:\n",
    "        return array\n",
    "\n",
    "    # Split the array into two halves\n",
    "    mid = len(array) // 2\n",
    "    left_half = merge_sort(array[:mid])\n",
    "    right_half = merge_sort(array[mid:])\n",
    "\n",
    "    # Merge the sorted halves\n",
    "    return merge(left_half, right_half)\n",
    "\n",
    "def merge(left, right):\n",
    "    \"\"\"\n",
    "    Merge two sorted arrays into a single sorted array.\n",
    "\n",
    "    Parameters:\n",
    "    - left: The left sorted array\n",
    "    - right: The right sorted array\n",
    "\n",
    "    Returns:\n",
    "    - A new array that combines both inputs in sorted order.\n",
    "    \"\"\"\n",
    "    result = []\n",
    "    i = j = 0\n",
    "\n",
    "    # Merge the arrays while comparing elements\n",
    "    while i < len(left) and j < len(right):\n",
    "        if left[i] <= right[j]:\n",
    "            result.append(left[i])\n",
    "            i += 1\n",
    "        else:\n",
    "            result.append(right[j])\n",
    "            j += 1\n",
    "\n",
    "    # Append any remaining elements from either array\n",
    "    result.extend(left[i:])\n",
    "    result.extend(right[j:])\n",
    "    return result\n",
    "\n",
    "# Example usage\n",
    "array = [6, 8, 5, 1, 2]\n",
    "sorted_array = merge_sort(array)\n",
    "print(\"Original Array:\", array)  # Output: [6, 8, 5, 1, 2]\n",
    "print(\"Sorted Array:\", sorted_array)  # Output: [1, 2, 5, 6, 8]\n"
   ]
  },
  {
   "cell_type": "code",
   "execution_count": null,
   "id": "c4a8472b-1b21-47fc-9b3f-4e583149cef0",
   "metadata": {},
   "outputs": [],
   "source": []
  }
 ],
 "metadata": {
  "kernelspec": {
   "display_name": "Python 3 (ipykernel)",
   "language": "python",
   "name": "python3"
  },
  "language_info": {
   "codemirror_mode": {
    "name": "ipython",
    "version": 3
   },
   "file_extension": ".py",
   "mimetype": "text/x-python",
   "name": "python",
   "nbconvert_exporter": "python",
   "pygments_lexer": "ipython3",
   "version": "3.12.7"
  }
 },
 "nbformat": 4,
 "nbformat_minor": 5
}
